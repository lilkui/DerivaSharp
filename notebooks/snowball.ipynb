{
 "cells": [
  {
   "cell_type": "code",
   "execution_count": null,
   "id": "02572c09",
   "metadata": {},
   "outputs": [],
   "source": [
    "# %load common_imports.py\n",
    "from pythonnet import load\n",
    "\n",
    "load(\"coreclr\")\n",
    "\n",
    "import os\n",
    "import clr\n",
    "\n",
    "clr.AddReference(os.path.abspath(\"../src/DerivaSharp/bin/Release/net9.0/win-x64/publish/DerivaSharp.dll\"))\n",
    "\n",
    "import matplotlib.pyplot as plt\n",
    "import numpy as np\n",
    "import pandas as pd\n",
    "\n",
    "import DerivaSharp.Instruments as Instruments\n",
    "import DerivaSharp.PricingEngines as PricingEngines\n",
    "from System import DateOnly"
   ]
  },
  {
   "cell_type": "code",
   "execution_count": null,
   "id": "a4e20d30",
   "metadata": {},
   "outputs": [],
   "source": [
    "koCoupon = 0.085\n",
    "matCoupon = 0.085\n",
    "ki = 0.8\n",
    "ko = 1.03\n",
    "strike = 1.0\n",
    "lockUpMonths = 3\n",
    "\n",
    "effectiveDate = DateOnly(2022, 1, 5)\n",
    "maturityDate = DateOnly(2023, 1, 5)\n",
    "vol = 0.16\n",
    "r = 0.02\n",
    "q = 0.04\n",
    "\n",
    "option = Instruments.SnowballOption(\n",
    "    koCoupon,\n",
    "    matCoupon,\n",
    "    ki,\n",
    "    ko,\n",
    "    strike,\n",
    "    lockUpMonths,\n",
    "    Instruments.BarrierTouchStatus.NoTouch,\n",
    "    effectiveDate,\n",
    "    maturityDate,\n",
    ")\n",
    "\n",
    "engine = PricingEngines.McSnowballEngine(100000, True)"
   ]
  },
  {
   "cell_type": "code",
   "execution_count": null,
   "id": "9dc9271b",
   "metadata": {},
   "outputs": [],
   "source": [
    "for date in option.KnockOutObservationDates:\n",
    "    print(date.ToString())"
   ]
  },
  {
   "cell_type": "code",
   "execution_count": null,
   "id": "05893840",
   "metadata": {},
   "outputs": [],
   "source": [
    "valuationDate = DateOnly(2022, 1, 5)\n",
    "spots = np.arange(0.5, 1.51, 0.01, dtype=np.float64)\n",
    "context = PricingEngines.PricingContext(1, valuationDate, vol, r, q)\n",
    "\n",
    "values = np.array(engine.Values(option, context, spots)) * -1\n",
    "deltas = np.array(engine.Deltas(option, context, spots)) * -1\n",
    "gammas = np.array(engine.Gammas(option, context, spots)) * -1"
   ]
  },
  {
   "cell_type": "code",
   "execution_count": null,
   "id": "8fbdff8e",
   "metadata": {},
   "outputs": [],
   "source": [
    "fig, axs = plt.subplots(3, 1, figsize=(4, 9))\n",
    "\n",
    "axs[0].plot(spots, values)\n",
    "axs[0].set_title(\"Value\")\n",
    "axs[0].grid(True)\n",
    "\n",
    "axs[1].plot(spots, deltas)\n",
    "axs[1].set_title(\"Delta\")\n",
    "axs[1].grid(True)\n",
    "\n",
    "axs[2].plot(spots, gammas)\n",
    "axs[2].set_title(\"Gamma\")\n",
    "axs[2].grid(True)\n",
    "\n",
    "plt.tight_layout()\n",
    "plt.show()"
   ]
  }
 ],
 "metadata": {
  "kernelspec": {
   "display_name": "notebooks",
   "language": "python",
   "name": "python3"
  },
  "language_info": {
   "codemirror_mode": {
    "name": "ipython",
    "version": 3
   },
   "file_extension": ".py",
   "mimetype": "text/x-python",
   "name": "python",
   "nbconvert_exporter": "python",
   "pygments_lexer": "ipython3",
   "version": "3.13.6"
  }
 },
 "nbformat": 4,
 "nbformat_minor": 5
}
