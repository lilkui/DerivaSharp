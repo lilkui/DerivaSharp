{
 "cells": [
  {
   "cell_type": "code",
   "execution_count": null,
   "id": "139afccf",
   "metadata": {},
   "outputs": [],
   "source": [
    "# %load common_imports.py\n",
    "from pythonnet import load\n",
    "\n",
    "load(\"coreclr\")\n",
    "\n",
    "import os\n",
    "import clr\n",
    "\n",
    "clr.AddReference(os.path.abspath(\"../src/DerivaSharp/bin/Release/net9.0/win-x64/publish/DerivaSharp.dll\"))\n",
    "\n",
    "import matplotlib.pyplot as plt\n",
    "import numpy as np\n",
    "import pandas as pd\n",
    "\n",
    "import DerivaSharp.Instruments as Instruments\n",
    "import DerivaSharp.PricingEngines as PricingEngines\n",
    "from System import DateOnly"
   ]
  },
  {
   "cell_type": "code",
   "execution_count": null,
   "id": "821e0935",
   "metadata": {},
   "outputs": [],
   "source": [
    "type = Instruments.OptionType.Call\n",
    "strike = 100.0\n",
    "startDate = DateOnly(2025, 1, 6)\n",
    "endDate = startDate.AddDays(90)\n",
    "vol = 0.3\n",
    "r = 0.04\n",
    "q = 0.01\n",
    "\n",
    "option = Instruments.EuropeanOption(type, strike, startDate, endDate)\n",
    "engine = PricingEngines.AnalyticEuropeanEngine()"
   ]
  },
  {
   "cell_type": "code",
   "execution_count": null,
   "id": "1d91ecaf",
   "metadata": {},
   "outputs": [],
   "source": [
    "metrics = {\n",
    "    \"value\": engine.Value,\n",
    "    \"delta\": engine.Delta,\n",
    "    \"gamma\": engine.Gamma,\n",
    "    \"speed\": engine.Speed,\n",
    "    \"theta\": engine.Theta,\n",
    "    \"charm\": engine.Charm,\n",
    "    \"color\": engine.Color,\n",
    "    \"vega\": engine.Vega,\n",
    "    \"vanna\": engine.Vanna,\n",
    "    \"zomma\": engine.Zomma,\n",
    "    \"rho\": engine.Rho,\n",
    "}\n",
    "\n",
    "data = []\n",
    "spots = np.arange(50, 150, 1, dtype=np.float64)\n",
    "for spot in spots:\n",
    "    context = PricingEngines.PricingContext(spot, startDate, vol, r, q)\n",
    "    row = {name: func(option, context) for name, func in metrics.items()}\n",
    "    row[\"spot\"] = spot\n",
    "    data.append(row)\n",
    "df = pd.DataFrame(data)"
   ]
  },
  {
   "cell_type": "code",
   "execution_count": null,
   "id": "d4acb2aa",
   "metadata": {},
   "outputs": [],
   "source": [
    "greek_columns = [col for col in df.columns if col != \"spot\"]\n",
    "fig, axes = plt.subplots(len(greek_columns), 1, figsize=(4, 3 * len(greek_columns)))\n",
    "for ax, col in zip(axes, greek_columns):\n",
    "    ax.plot(df[\"spot\"], df[col], label=col, color=\"C0\")\n",
    "    ax.set_title(col.capitalize())\n",
    "    ax.grid(True)\n",
    "plt.tight_layout()\n",
    "plt.show()"
   ]
  }
 ],
 "metadata": {
  "kernelspec": {
   "display_name": "notebooks",
   "language": "python",
   "name": "python3"
  },
  "language_info": {
   "codemirror_mode": {
    "name": "ipython",
    "version": 3
   },
   "file_extension": ".py",
   "mimetype": "text/x-python",
   "name": "python",
   "nbconvert_exporter": "python",
   "pygments_lexer": "ipython3",
   "version": "3.13.6"
  }
 },
 "nbformat": 4,
 "nbformat_minor": 5
}
